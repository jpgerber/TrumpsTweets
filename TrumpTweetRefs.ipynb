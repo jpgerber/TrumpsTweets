{
 "cells": [
  {
   "cell_type": "markdown",
   "metadata": {},
   "source": [
    "#### Reference analyses of Trump's tweeting\n",
    "\n",
    "This one shows only some of the posts are actually from Trump http://varianceexplained.org/r/trump-tweets/. In R, and argues that Android tweets are Trump's own ones (limit to that!). This is 2016 research. Still true?\n",
    "\n",
    "\n",
    "An example of a heavily-interpreted-by-the-researcher data set where Trump is being called racist on immigration https://www.thepresidentsintent.com/text-examples\n",
    "\n",
    "Tweets relate to popularity https://techpolicyinstitute.org/2018/04/17/do-likes-of-trumps-tweets-predict-his-popularity/\n",
    "\n",
    "Here's where to get the data https://github.com/bpb27/trump_tweet_data_archive\n",
    "\n",
    "A big analysis in NYT (I don't have it) https://www.nytimes.com/interactive/2019/11/02/us/politics/trump-twitter-presidency.html?smid=tw-nytimes&amp;smtyp=cur\n",
    "\n",
    "NPR's version of analysis on how Trump treats Democrats (https://www.npr.org/2019/10/10/768646968/as-summer-heated-up-trumps-tweets-about-non-white-democrats-intensified) with a slightly separate Notebook at https://github.com/nprapps/trump-tweet-analysis . Notebook has good basic time of day and word count functions.\n",
    "\n",
    "Good Medium post (https://medium.com/swlh/analyzing-trumps-tweets-5368528d2c90) based on notebook (https://github.com/taubergm/TrumpTweets ) in R only :(.\n",
    "a. Trump uses 5th grade reading level, \n",
    "b. Adjectives are simple opposites (could use this)\n",
    "c. Sentiment is actually largely positive!\n",
    "d. Places insults into 'buckets' but does so intuitively, not with actual data technique\n",
    "\n",
    "This one looks at stock markets and general Trump tweet sentiment (https://towardsdatascience.com/covfefe-nlp-do-trumps-tweets-move-the-stock-market-42a83ab17fea) . Finds a correlation of 0.65 (no causal techniques but notes that it's only correlational)\n",
    "\n",
    "https://cgscholar.com/bookstore/works/his-tweets-speak-for-themselves Academic paper\n",
    "\n",
    "KDNuggets sentiment mining of Trump and 2016 opponents (https://www.kdnuggets.com/2016/06/politics-analytics-trump-clinton-sanders-twitter-sentiment.html ). Trump is negative about all opponents, Sanders/CLinton more mixed, I think the Fox analysis (Fox liked Sanders/Clinton but not Trump) is probably wrong.\n",
    "\n",
    "<b>Two Australian studies on Trump</b> \n",
    "1. compared to other entrepreneurs (https://eprints.qut.edu.au/107490/3/Obschonka%20et%20al.%202017.pdf ). This study uses a proprietary tool (Receptiviti, based on Pennebaker's LIWC) to analyze language and personality categories. Hmmm. Gives Big Five, achievement orientation, social skills and wellbeing.\n",
    "2. as political operative(https://www.researchgate.net/publication/317659012_Entrepreneurial_personalities_in_political_leadership). Once again a REceptiviti, mapping Trump to already known word/psychology pairings.\n",
    "(press release at https://www.eurekalert.org/pub_releases/2017-07/quot-utt072617.php.\n",
    "\n",
    "Trump has four styles (https://journals.plos.org/plosone/article?id=10.1371%2Fjournal.pone.0222062) of Tweet:\n",
    "1. conversational retweet, \n",
    "2. campaigning, \n",
    "3. engaged on an issue\n",
    "4. advice about how someone should live\n",
    "\n"
   ]
  },
  {
   "cell_type": "code",
   "execution_count": null,
   "metadata": {},
   "outputs": [],
   "source": []
  }
 ],
 "metadata": {
  "kernelspec": {
   "display_name": "Python 3",
   "language": "python",
   "name": "python3"
  },
  "language_info": {
   "codemirror_mode": {
    "name": "ipython",
    "version": 3
   },
   "file_extension": ".py",
   "mimetype": "text/x-python",
   "name": "python",
   "nbconvert_exporter": "python",
   "pygments_lexer": "ipython3",
   "version": "3.7.3"
  }
 },
 "nbformat": 4,
 "nbformat_minor": 2
}
