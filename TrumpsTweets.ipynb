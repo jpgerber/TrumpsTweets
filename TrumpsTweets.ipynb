{
 "cells": [
  {
   "cell_type": "markdown",
   "metadata": {},
   "source": [
    "# To-do list\n",
    "\n",
    "Look up the LIWC Pennebaker technique and validity"
   ]
  },
  {
   "cell_type": "markdown",
   "metadata": {},
   "source": [
    "# An analysis of the world constructed by President Trump's tweets\n",
    "\n",
    "This project examines President Trump's tweets, using NLP to explore who and what the President tweets about, what those tweets think about those subjects, and how this might be used to construct the worldview of the President, particularly with respect to how a worldview is constructed in the tweets.\n"
   ]
  },
  {
   "cell_type": "markdown",
   "metadata": {},
   "source": [
    "### Load and clean\n",
    "The TrumpTwitterArchive is missing 2019-2020 data but to retrieve that will cost $100 subscription to Twitter API. So, go with the older data. Will need to think about limiting to Android only BUT we also know that the descriptors/NEs might match hours of the day (just check that)"
   ]
  },
  {
   "cell_type": "code",
   "execution_count": null,
   "metadata": {},
   "outputs": [],
   "source": [
    "# Necessary imports\n",
    "import zipfile\n",
    "import io\n",
    "import urllib\n",
    "import json\n",
    "import pandas as pd"
   ]
  },
  {
   "cell_type": "code",
   "execution_count": 32,
   "metadata": {},
   "outputs": [
    {
     "data": {
      "text/html": [
       "<div>\n",
       "<style scoped>\n",
       "    .dataframe tbody tr th:only-of-type {\n",
       "        vertical-align: middle;\n",
       "    }\n",
       "\n",
       "    .dataframe tbody tr th {\n",
       "        vertical-align: top;\n",
       "    }\n",
       "\n",
       "    .dataframe thead th {\n",
       "        text-align: right;\n",
       "    }\n",
       "</style>\n",
       "<table border=\"1\" class=\"dataframe\">\n",
       "  <thead>\n",
       "    <tr style=\"text-align: right;\">\n",
       "      <th></th>\n",
       "      <th>created_at</th>\n",
       "      <th>favorite_count</th>\n",
       "      <th>id_str</th>\n",
       "      <th>in_reply_to_user_id_str</th>\n",
       "      <th>is_retweet</th>\n",
       "      <th>retweet_count</th>\n",
       "      <th>source</th>\n",
       "      <th>text</th>\n",
       "    </tr>\n",
       "  </thead>\n",
       "  <tbody>\n",
       "    <tr>\n",
       "      <th>0</th>\n",
       "      <td>Mon Dec 31 23:53:06 +0000 2018</td>\n",
       "      <td>136012</td>\n",
       "      <td>1079888205351145472</td>\n",
       "      <td>None</td>\n",
       "      <td>False</td>\n",
       "      <td>33548</td>\n",
       "      <td>Twitter for iPhone</td>\n",
       "      <td>HAPPY NEW YEAR! https://t.co/bHoPDPQ7G6</td>\n",
       "    </tr>\n",
       "    <tr>\n",
       "      <th>1</th>\n",
       "      <td>Mon Dec 31 20:02:52 +0000 2018</td>\n",
       "      <td>65069</td>\n",
       "      <td>1079830268708556800</td>\n",
       "      <td>25073877</td>\n",
       "      <td>False</td>\n",
       "      <td>17456</td>\n",
       "      <td>Twitter for iPhone</td>\n",
       "      <td>....Senator Schumer, more than a year longer t...</td>\n",
       "    </tr>\n",
       "    <tr>\n",
       "      <th>2</th>\n",
       "      <td>Mon Dec 31 20:02:52 +0000 2018</td>\n",
       "      <td>76721</td>\n",
       "      <td>1079830267274108930</td>\n",
       "      <td>None</td>\n",
       "      <td>False</td>\n",
       "      <td>21030</td>\n",
       "      <td>Twitter for iPhone</td>\n",
       "      <td>Heads of countries are calling wanting to know...</td>\n",
       "    </tr>\n",
       "    <tr>\n",
       "      <th>3</th>\n",
       "      <td>Mon Dec 31 15:39:15 +0000 2018</td>\n",
       "      <td>127485</td>\n",
       "      <td>1079763923845419009</td>\n",
       "      <td>None</td>\n",
       "      <td>False</td>\n",
       "      <td>29610</td>\n",
       "      <td>Twitter for iPhone</td>\n",
       "      <td>It’s incredible how Democrats can all use thei...</td>\n",
       "    </tr>\n",
       "    <tr>\n",
       "      <th>4</th>\n",
       "      <td>Mon Dec 31 15:37:14 +0000 2018</td>\n",
       "      <td>132439</td>\n",
       "      <td>1079763419908243456</td>\n",
       "      <td>None</td>\n",
       "      <td>False</td>\n",
       "      <td>30957</td>\n",
       "      <td>Twitter for iPhone</td>\n",
       "      <td>I’m in the Oval Office. Democrats, come back f...</td>\n",
       "    </tr>\n",
       "  </tbody>\n",
       "</table>\n",
       "</div>"
      ],
      "text/plain": [
       "                       created_at  favorite_count               id_str  \\\n",
       "0  Mon Dec 31 23:53:06 +0000 2018          136012  1079888205351145472   \n",
       "1  Mon Dec 31 20:02:52 +0000 2018           65069  1079830268708556800   \n",
       "2  Mon Dec 31 20:02:52 +0000 2018           76721  1079830267274108930   \n",
       "3  Mon Dec 31 15:39:15 +0000 2018          127485  1079763923845419009   \n",
       "4  Mon Dec 31 15:37:14 +0000 2018          132439  1079763419908243456   \n",
       "\n",
       "  in_reply_to_user_id_str  is_retweet  retweet_count              source  \\\n",
       "0                    None       False          33548  Twitter for iPhone   \n",
       "1                25073877       False          17456  Twitter for iPhone   \n",
       "2                    None       False          21030  Twitter for iPhone   \n",
       "3                    None       False          29610  Twitter for iPhone   \n",
       "4                    None       False          30957  Twitter for iPhone   \n",
       "\n",
       "                                                text  \n",
       "0            HAPPY NEW YEAR! https://t.co/bHoPDPQ7G6  \n",
       "1  ....Senator Schumer, more than a year longer t...  \n",
       "2  Heads of countries are calling wanting to know...  \n",
       "3  It’s incredible how Democrats can all use thei...  \n",
       "4  I’m in the Oval Office. Democrats, come back f...  "
      ]
     },
     "execution_count": 32,
     "metadata": {},
     "output_type": "execute_result"
    }
   ],
   "source": [
    "# Importing the data from the github (little trick: the linked file has a different URL than the Github page. *raw*)\n",
    "url = 'https://github.com/bpb27/trump_tweet_data_archive/raw/master/condensed_2018.json.zip'\n",
    "access_url = urllib.request.urlopen(url)\n",
    "\n",
    "z = zipfile.ZipFile(io.BytesIO(access_url.read())) # zip work\n",
    "data = json.loads(z.read(z.infolist()[0]).decode()) # takes first item from zip file\n",
    "\n",
    "# Now make a dataframe\n",
    "tweets = pd.DataFrame.from_records(data)\n",
    "tweets.head(5)"
   ]
  },
  {
   "cell_type": "markdown",
   "metadata": {},
   "source": [
    "### Basic EDA\n",
    "How many named entities are there in the tweets? How often is each named? What types are there?"
   ]
  },
  {
   "cell_type": "code",
   "execution_count": 1,
   "metadata": {},
   "outputs": [],
   "source": [
    "# Use KDWD for this part\n"
   ]
  },
  {
   "cell_type": "markdown",
   "metadata": {},
   "source": [
    "How many adjectives/descriptors are there?\n",
    "What are the most common and least common?"
   ]
  },
  {
   "cell_type": "markdown",
   "metadata": {},
   "source": [
    "What is the distribution of NERs and descriptors by Tweet?\n"
   ]
  },
  {
   "cell_type": "markdown",
   "metadata": {},
   "source": [
    "How are the NERs and descriptors found within a Tweet?\n",
    "Bigrams, trigrams, same sentence?"
   ]
  },
  {
   "cell_type": "markdown",
   "metadata": {},
   "source": [
    "What antonym pairs are found in the tweets? Does this match a general understanding of opposites?"
   ]
  },
  {
   "cell_type": "markdown",
   "metadata": {},
   "source": [
    "### World extraction\n",
    "Do a data reduction"
   ]
  },
  {
   "cell_type": "code",
   "execution_count": 3,
   "metadata": {},
   "outputs": [],
   "source": [
    "# Basically import my previous analysis but then consider using NMF instead of FA."
   ]
  },
  {
   "cell_type": "code",
   "execution_count": null,
   "metadata": {},
   "outputs": [],
   "source": []
  },
  {
   "cell_type": "markdown",
   "metadata": {},
   "source": [
    "#### Wilder ideas\n",
    "Here are some other ideas:\n",
    "1. Can we predict Trump's attitudes to untweeted entities?\n",
    "2. Can we predict Trump's tweets using known tweets?\n",
    "3. Can we make fake Trump tweets"
   ]
  },
  {
   "cell_type": "code",
   "execution_count": 2,
   "metadata": {},
   "outputs": [],
   "source": [
    "# 1 - predicting attitudes to unknowns\n",
    "#Do this via similarity of an entity to known entities in KDWD. Can also use the Word2Vec or \n",
    "#something like GPT2 or GPT3\n",
    "# Vs KDWD on entity and known reduced structure"
   ]
  },
  {
   "cell_type": "code",
   "execution_count": null,
   "metadata": {},
   "outputs": [],
   "source": [
    "# 2 - accuracy of prediction\n",
    "# Can we predict a holdout set? (DOes time matter?)\n"
   ]
  },
  {
   "cell_type": "code",
   "execution_count": 3,
   "metadata": {},
   "outputs": [],
   "source": [
    "# 3 - feed tweets into GPT2/3, get new tweets"
   ]
  },
  {
   "cell_type": "code",
   "execution_count": null,
   "metadata": {},
   "outputs": [],
   "source": []
  }
 ],
 "metadata": {
  "kernelspec": {
   "display_name": "Python 3",
   "language": "python",
   "name": "python3"
  },
  "language_info": {
   "codemirror_mode": {
    "name": "ipython",
    "version": 3
   },
   "file_extension": ".py",
   "mimetype": "text/x-python",
   "name": "python",
   "nbconvert_exporter": "python",
   "pygments_lexer": "ipython3",
   "version": "3.7.3"
  }
 },
 "nbformat": 4,
 "nbformat_minor": 2
}
