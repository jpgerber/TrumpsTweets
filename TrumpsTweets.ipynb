{
 "cells": [
  {
   "cell_type": "markdown",
   "metadata": {},
   "source": [
    "# To-do list\n",
    "\n",
    "Look up the LIWC Pennebaker technique and validity"
   ]
  },
  {
   "cell_type": "markdown",
   "metadata": {},
   "source": [
    "# An analysis of the world constructed by President Trump's tweets\n",
    "\n",
    "This project examines President Trump's tweets, using NLP to explore who and what the President tweets about, what those tweets think about those subjects, and how this might be used to construct the worldview of the President, particularly with respect to how a worldview is constructed in the tweets.\n"
   ]
  },
  {
   "cell_type": "markdown",
   "metadata": {},
   "source": [
    "### Load and clean\n",
    "The TrumpTwitterArchive is missing 2019-2020 data but to retrieve that will cost $100 subscription to Twitter API. So, go with the older data. Will need to think about limiting to Android only BUT we also know that the descriptors/NEs might match hours of the day (just check that)"
   ]
  },
  {
   "cell_type": "code",
   "execution_count": 13,
   "metadata": {},
   "outputs": [],
   "source": [
    "# Necessary imports\n",
    "import zipfile\n",
    "import io\n",
    "import urllib\n",
    "import json\n",
    "import pandas as pd\n",
    "import re"
   ]
  },
  {
   "cell_type": "code",
   "execution_count": 20,
   "metadata": {},
   "outputs": [
    {
     "data": {
      "text/html": [
       "<div>\n",
       "<style scoped>\n",
       "    .dataframe tbody tr th:only-of-type {\n",
       "        vertical-align: middle;\n",
       "    }\n",
       "\n",
       "    .dataframe tbody tr th {\n",
       "        vertical-align: top;\n",
       "    }\n",
       "\n",
       "    .dataframe thead th {\n",
       "        text-align: right;\n",
       "    }\n",
       "</style>\n",
       "<table border=\"1\" class=\"dataframe\">\n",
       "  <thead>\n",
       "    <tr style=\"text-align: right;\">\n",
       "      <th></th>\n",
       "      <th>created_at</th>\n",
       "      <th>favorite_count</th>\n",
       "      <th>id_str</th>\n",
       "      <th>in_reply_to_user_id_str</th>\n",
       "      <th>is_retweet</th>\n",
       "      <th>retweet_count</th>\n",
       "      <th>source</th>\n",
       "      <th>text</th>\n",
       "      <th>hashtag</th>\n",
       "    </tr>\n",
       "  </thead>\n",
       "  <tbody>\n",
       "    <tr>\n",
       "      <th>0</th>\n",
       "      <td>Mon Dec 31 23:53:06 +0000 2018</td>\n",
       "      <td>136012</td>\n",
       "      <td>1079888205351145472</td>\n",
       "      <td>None</td>\n",
       "      <td>False</td>\n",
       "      <td>33548</td>\n",
       "      <td>Twitter for iPhone</td>\n",
       "      <td>HAPPY NEW YEAR! https://t.co/bHoPDPQ7G6</td>\n",
       "      <td>[]</td>\n",
       "    </tr>\n",
       "    <tr>\n",
       "      <th>1</th>\n",
       "      <td>Mon Dec 31 20:02:52 +0000 2018</td>\n",
       "      <td>65069</td>\n",
       "      <td>1079830268708556800</td>\n",
       "      <td>25073877</td>\n",
       "      <td>False</td>\n",
       "      <td>17456</td>\n",
       "      <td>Twitter for iPhone</td>\n",
       "      <td>....Senator Schumer, more than a year longer t...</td>\n",
       "      <td>[]</td>\n",
       "    </tr>\n",
       "    <tr>\n",
       "      <th>2</th>\n",
       "      <td>Mon Dec 31 20:02:52 +0000 2018</td>\n",
       "      <td>76721</td>\n",
       "      <td>1079830267274108930</td>\n",
       "      <td>None</td>\n",
       "      <td>False</td>\n",
       "      <td>21030</td>\n",
       "      <td>Twitter for iPhone</td>\n",
       "      <td>Heads of countries are calling wanting to know...</td>\n",
       "      <td>[]</td>\n",
       "    </tr>\n",
       "    <tr>\n",
       "      <th>3</th>\n",
       "      <td>Mon Dec 31 15:39:15 +0000 2018</td>\n",
       "      <td>127485</td>\n",
       "      <td>1079763923845419009</td>\n",
       "      <td>None</td>\n",
       "      <td>False</td>\n",
       "      <td>29610</td>\n",
       "      <td>Twitter for iPhone</td>\n",
       "      <td>It’s incredible how Democrats can all use thei...</td>\n",
       "      <td>[]</td>\n",
       "    </tr>\n",
       "    <tr>\n",
       "      <th>4</th>\n",
       "      <td>Mon Dec 31 15:37:14 +0000 2018</td>\n",
       "      <td>132439</td>\n",
       "      <td>1079763419908243456</td>\n",
       "      <td>None</td>\n",
       "      <td>False</td>\n",
       "      <td>30957</td>\n",
       "      <td>Twitter for iPhone</td>\n",
       "      <td>I’m in the Oval Office. Democrats, come back f...</td>\n",
       "      <td>[]</td>\n",
       "    </tr>\n",
       "  </tbody>\n",
       "</table>\n",
       "</div>"
      ],
      "text/plain": [
       "                       created_at  favorite_count               id_str  \\\n",
       "0  Mon Dec 31 23:53:06 +0000 2018          136012  1079888205351145472   \n",
       "1  Mon Dec 31 20:02:52 +0000 2018           65069  1079830268708556800   \n",
       "2  Mon Dec 31 20:02:52 +0000 2018           76721  1079830267274108930   \n",
       "3  Mon Dec 31 15:39:15 +0000 2018          127485  1079763923845419009   \n",
       "4  Mon Dec 31 15:37:14 +0000 2018          132439  1079763419908243456   \n",
       "\n",
       "  in_reply_to_user_id_str  is_retweet  retweet_count              source  \\\n",
       "0                    None       False          33548  Twitter for iPhone   \n",
       "1                25073877       False          17456  Twitter for iPhone   \n",
       "2                    None       False          21030  Twitter for iPhone   \n",
       "3                    None       False          29610  Twitter for iPhone   \n",
       "4                    None       False          30957  Twitter for iPhone   \n",
       "\n",
       "                                                text hashtag  \n",
       "0            HAPPY NEW YEAR! https://t.co/bHoPDPQ7G6      []  \n",
       "1  ....Senator Schumer, more than a year longer t...      []  \n",
       "2  Heads of countries are calling wanting to know...      []  \n",
       "3  It’s incredible how Democrats can all use thei...      []  \n",
       "4  I’m in the Oval Office. Democrats, come back f...      []  "
      ]
     },
     "execution_count": 20,
     "metadata": {},
     "output_type": "execute_result"
    }
   ],
   "source": [
    "# Importing the data from the github (little trick: the linked file has a different URL than the Github page. *raw*)\n",
    "url = 'https://github.com/bpb27/trump_tweet_data_archive/raw/master/condensed_2018.json.zip'\n",
    "access_url = urllib.request.urlopen(url)\n",
    "\n",
    "z = zipfile.ZipFile(io.BytesIO(access_url.read())) # zip work\n",
    "data = json.loads(z.read(z.infolist()[0]).decode()) # takes first item from zip file\n",
    "\n",
    "# Now make a dataframe\n",
    "tweets = pd.DataFrame.from_records(data)\n",
    "\n",
    "tweets.head(5)\n"
   ]
  },
  {
   "cell_type": "code",
   "execution_count": 34,
   "metadata": {},
   "outputs": [
    {
     "data": {
      "text/html": [
       "<div>\n",
       "<style scoped>\n",
       "    .dataframe tbody tr th:only-of-type {\n",
       "        vertical-align: middle;\n",
       "    }\n",
       "\n",
       "    .dataframe tbody tr th {\n",
       "        vertical-align: top;\n",
       "    }\n",
       "\n",
       "    .dataframe thead th {\n",
       "        text-align: right;\n",
       "    }\n",
       "</style>\n",
       "<table border=\"1\" class=\"dataframe\">\n",
       "  <thead>\n",
       "    <tr style=\"text-align: right;\">\n",
       "      <th></th>\n",
       "      <th>created_at</th>\n",
       "      <th>favorite_count</th>\n",
       "      <th>id_str</th>\n",
       "      <th>in_reply_to_user_id_str</th>\n",
       "      <th>is_retweet</th>\n",
       "      <th>retweet_count</th>\n",
       "      <th>source</th>\n",
       "      <th>text</th>\n",
       "      <th>hashtag</th>\n",
       "      <th>nametag</th>\n",
       "      <th>mentions</th>\n",
       "    </tr>\n",
       "  </thead>\n",
       "  <tbody>\n",
       "    <tr>\n",
       "      <th>0</th>\n",
       "      <td>Mon Dec 31 23:53:06 +0000 2018</td>\n",
       "      <td>136012</td>\n",
       "      <td>1079888205351145472</td>\n",
       "      <td>None</td>\n",
       "      <td>False</td>\n",
       "      <td>33548</td>\n",
       "      <td>Twitter for iPhone</td>\n",
       "      <td>HAPPY NEW YEAR!</td>\n",
       "      <td>[]</td>\n",
       "      <td>[]</td>\n",
       "      <td>[]</td>\n",
       "    </tr>\n",
       "    <tr>\n",
       "      <th>1</th>\n",
       "      <td>Mon Dec 31 20:02:52 +0000 2018</td>\n",
       "      <td>65069</td>\n",
       "      <td>1079830268708556800</td>\n",
       "      <td>25073877</td>\n",
       "      <td>False</td>\n",
       "      <td>17456</td>\n",
       "      <td>Twitter for iPhone</td>\n",
       "      <td>....Senator Schumer, more than a year longer t...</td>\n",
       "      <td>[]</td>\n",
       "      <td>[]</td>\n",
       "      <td>[]</td>\n",
       "    </tr>\n",
       "    <tr>\n",
       "      <th>2</th>\n",
       "      <td>Mon Dec 31 20:02:52 +0000 2018</td>\n",
       "      <td>76721</td>\n",
       "      <td>1079830267274108930</td>\n",
       "      <td>None</td>\n",
       "      <td>False</td>\n",
       "      <td>21030</td>\n",
       "      <td>Twitter for iPhone</td>\n",
       "      <td>Heads of countries are calling wanting to know...</td>\n",
       "      <td>[]</td>\n",
       "      <td>[]</td>\n",
       "      <td>[]</td>\n",
       "    </tr>\n",
       "    <tr>\n",
       "      <th>3</th>\n",
       "      <td>Mon Dec 31 15:39:15 +0000 2018</td>\n",
       "      <td>127485</td>\n",
       "      <td>1079763923845419009</td>\n",
       "      <td>None</td>\n",
       "      <td>False</td>\n",
       "      <td>29610</td>\n",
       "      <td>Twitter for iPhone</td>\n",
       "      <td>Its incredible how Democrats can all use their...</td>\n",
       "      <td>[]</td>\n",
       "      <td>[]</td>\n",
       "      <td>[]</td>\n",
       "    </tr>\n",
       "    <tr>\n",
       "      <th>4</th>\n",
       "      <td>Mon Dec 31 15:37:14 +0000 2018</td>\n",
       "      <td>132439</td>\n",
       "      <td>1079763419908243456</td>\n",
       "      <td>None</td>\n",
       "      <td>False</td>\n",
       "      <td>30957</td>\n",
       "      <td>Twitter for iPhone</td>\n",
       "      <td>Im in the Oval Office. Democrats, come back fr...</td>\n",
       "      <td>[]</td>\n",
       "      <td>[]</td>\n",
       "      <td>[]</td>\n",
       "    </tr>\n",
       "  </tbody>\n",
       "</table>\n",
       "</div>"
      ],
      "text/plain": [
       "                       created_at  favorite_count               id_str  \\\n",
       "0  Mon Dec 31 23:53:06 +0000 2018          136012  1079888205351145472   \n",
       "1  Mon Dec 31 20:02:52 +0000 2018           65069  1079830268708556800   \n",
       "2  Mon Dec 31 20:02:52 +0000 2018           76721  1079830267274108930   \n",
       "3  Mon Dec 31 15:39:15 +0000 2018          127485  1079763923845419009   \n",
       "4  Mon Dec 31 15:37:14 +0000 2018          132439  1079763419908243456   \n",
       "\n",
       "  in_reply_to_user_id_str  is_retweet  retweet_count              source  \\\n",
       "0                    None       False          33548  Twitter for iPhone   \n",
       "1                25073877       False          17456  Twitter for iPhone   \n",
       "2                    None       False          21030  Twitter for iPhone   \n",
       "3                    None       False          29610  Twitter for iPhone   \n",
       "4                    None       False          30957  Twitter for iPhone   \n",
       "\n",
       "                                                text hashtag nametag mentions  \n",
       "0                                    HAPPY NEW YEAR!      []      []       []  \n",
       "1  ....Senator Schumer, more than a year longer t...      []      []       []  \n",
       "2  Heads of countries are calling wanting to know...      []      []       []  \n",
       "3  Its incredible how Democrats can all use their...      []      []       []  \n",
       "4  Im in the Oval Office. Democrats, come back fr...      []      []       []  "
      ]
     },
     "execution_count": 34,
     "metadata": {},
     "output_type": "execute_result"
    }
   ],
   "source": [
    "# Extract mentions by applying a regex\n",
    "tweets['mentions'] = tweets['text'].apply(lambda x: re.findall(r\"@(\\w+)\", x))\n",
    "\n",
    "# Extract hashtags via regex\n",
    "tweets['hashtag'] = tweets['text'].apply(lambda x: re.findall(r\"#(\\w+)\", x))\n",
    "\n",
    "# Remove URLs and hashtags and mentions\n",
    "import preprocessor as p\n",
    "for i,v in enumerate(tweets.text):\n",
    "    tweets.loc[i,'text'] = p.clean(v)\n",
    "\n",
    "tweets.head()"
   ]
  },
  {
   "cell_type": "markdown",
   "metadata": {},
   "source": [
    "### Basic EDA"
   ]
  },
  {
   "cell_type": "markdown",
   "metadata": {},
   "source": [
    "Most of the tweets (87%, 3046 out 3500) are not re-tweets. We should remove the re-tweets."
   ]
  },
  {
   "cell_type": "code",
   "execution_count": 3,
   "metadata": {},
   "outputs": [
    {
     "name": "stdout",
     "output_type": "stream",
     "text": [
      "Retweets (f)\n",
      "False    3046\n",
      "True      464\n",
      "Name: is_retweet, dtype: int64\n",
      "Retweets (%)\n",
      "False    0.867806\n",
      "True     0.132194\n",
      "Name: is_retweet, dtype: float64\n"
     ]
    }
   ],
   "source": [
    "print('Retweets (f)')\n",
    "print(tweets.is_retweet.value_counts())\n",
    "print('Retweets (%)')\n",
    "print(tweets.is_retweet.value_counts() / len(tweets.is_retweet))\n"
   ]
  },
  {
   "cell_type": "markdown",
   "metadata": {},
   "source": [
    "Sources of tweet are shown below. I haven't checked how this compares to the Android vs iPhone debate listed in the references."
   ]
  },
  {
   "cell_type": "code",
   "execution_count": 4,
   "metadata": {},
   "outputs": [
    {
     "data": {
      "text/plain": [
       "Twitter for iPhone      3438\n",
       "Media Studio              39\n",
       "Twitter for iPad          17\n",
       "Twitter Media Studio      12\n",
       "Twitter Web Client         4\n",
       "Name: source, dtype: int64"
      ]
     },
     "execution_count": 4,
     "metadata": {},
     "output_type": "execute_result"
    }
   ],
   "source": [
    "tweets.source.value_counts()"
   ]
  },
  {
   "cell_type": "markdown",
   "metadata": {},
   "source": [
    "#### Cleaning up the tweets for easier analysis"
   ]
  },
  {
   "cell_type": "code",
   "execution_count": 5,
   "metadata": {},
   "outputs": [],
   "source": [
    "# Making a neater version of the tweets\n",
    "\n",
    "tweets['text_cleaned'] =  tweets.text.str.lower()\n",
    "from nltk.corpus import stopwords\n",
    "stopwords = set(stopwords.words(\"english\"))\n",
    "tweets.text_cleaned = tweets.text_cleaned.apply(lambda x : \" \".join(word for word in x.split() if word not in stopwords ))"
   ]
  },
  {
   "cell_type": "markdown",
   "metadata": {},
   "source": [
    "One difficulty will be that Trump uses sarcasm and disbelief. Or describes magnitudes of bad things (e.g. single greatest witch hunt)\n",
    "e.g. fourth tweet links democrats with 'incredible', although it does also use ridiculous sound bite.\n",
    "Then, he implies dems are immoral.\n"
   ]
  },
  {
   "cell_type": "code",
   "execution_count": 20,
   "metadata": {},
   "outputs": [
    {
     "name": "stdout",
     "output_type": "stream",
     "text": [
      "It’s incredible how Democrats can all use their ridiculous sound bite and say that a Wall doesn’t work. It does, and properly built, almost 100%! They say it’s old technology - but so is the wheel. They now say it is immoral- but it is far more immoral for people to be dying!\n",
      "The single greatest Witch Hunt in American history continues. There was no collusion, everybody including the Dems knows there was no collusion, &amp; yet on and on it goes. Russia &amp; the world is laughing at the stupidity they are witnessing. Republicans should finally take control!\n"
     ]
    }
   ],
   "source": [
    "print(tweets.text[3])\n",
    "print(tweets.text[3502])\n"
   ]
  },
  {
   "cell_type": "code",
   "execution_count": 7,
   "metadata": {},
   "outputs": [
    {
     "data": {
      "text/plain": [
       "0                 happy new year! https://t.co/bhopdpq7g6\n",
       "1       ....senator schumer, year longer administratio...\n",
       "2       heads countries calling wanting know senator s...\n",
       "3       it’s incredible democrats use ridiculous sound...\n",
       "4       i’m oval office. democrats, come back vacation...\n",
       "5       i’m oval office. democrats, come back vacation...\n",
       "6       person america could say that, “i’m bringing g...\n",
       "7       campaigned border security, cannot without str...\n",
       "8       .....except results far better ever said going...\n",
       "9       ...i campaigned getting syria places. start ge...\n",
       "10      anybody donald trump syria, isis loaded mess b...\n",
       "11      concrete wall never abandoned, reported media....\n",
       "12      president mrs. obama built/has ten foot wall a...\n",
       "13      great work administration holidays save coast ...\n",
       "14      veterans president trump’s handling border sec...\n",
       "15      “it turns true now, department justice fbi, pr...\n",
       "16      “absolutely nothing” (on russian collusion). k...\n",
       "17      2018 called “the year worker” steve moore, co-...\n",
       "18      naively ask didn’t republicans get approval bu...\n",
       "19      ...children question sick given border patrol....\n",
       "20      deaths children others border strictly fault d...\n",
       "21      long good call president xi china. deal moving...\n",
       "22      white house waiting democrats come make deal b...\n",
       "23      mueller angry democrats recently deleted appro...\n",
       "24      thank sean parnell nice comments @foxandfriend...\n",
       "25      .....honduras, guatemala el salvador nothing u...\n",
       "26      .....close southern border. bring car industry...\n",
       "27      ....the united states looses soooo much money ...\n",
       "28      forced close southern border entirely obstruct...\n",
       "29      cnn &amp; others within fake news universe goi...\n",
       "                              ...                        \n",
       "3480    ....because democrats interested life safety, ...\n",
       "3481    ....countries badly. want merit based system i...\n",
       "3482    so-called bipartisan daca deal presented yeste...\n",
       "3483    reason canceled trip london big fan obama admi...\n",
       "3484    democrats seem intent people drugs pour countr...\n",
       "3485    democrat dianne feinstein never released secre...\n",
       "3486    chrysler moving massive plant mexico michigan,...\n",
       "3487    great news result historical tax cuts reform: ...\n",
       "3488    small business poll highest approval numbers p...\n",
       "3489    thank adam levine, federalist, interview @foxa...\n",
       "3490    yesterday, signed #interdictact (h.r. 2142) bi...\n",
       "3491    great news, result tax cuts &amp; jobs act! ht...\n",
       "3492    said, personally directed fix unmasking proces...\n",
       "3493    “45 year low illegal immigration year.” @foxan...\n",
       "3494    “house votes controversial fisa act today.” ac...\n",
       "3495    new quinnipiac poll, 66% people feel economy “...\n",
       "3496    disproven paid democrats “dossier used spy tru...\n",
       "3497    good news: toyota mazda announce giant new hun...\n",
       "3498    cutting taxes simplifying regulations makes am...\n",
       "3499    united states needs security wall southern bor...\n",
       "3500    today, great honor welcome prime minister erna...\n",
       "3501    want thank @cabinet working tirelessly behalf ...\n",
       "3502    single greatest witch hunt american history co...\n",
       "3503    fact sneaky dianne feinstein, numerous occasio...\n",
       "3504    shows everyone broken unfair court system oppo...\n",
       "3505    .@icegov hsi agents ero officers, behalf entir...\n",
       "3506    thank @gopleader kevin mccarthy! couldn’t agre...\n",
       "3507    made clear today, country needs security wall ...\n",
       "3508    rt @scavino45: “utilities cutting rates, cite ...\n",
       "3509    today, great honor sign new executive order en...\n",
       "Name: text_cleaned, Length: 3510, dtype: object"
      ]
     },
     "execution_count": 7,
     "metadata": {},
     "output_type": "execute_result"
    }
   ],
   "source": [
    "tweets.text_cleaned"
   ]
  },
  {
   "cell_type": "code",
   "execution_count": 6,
   "metadata": {},
   "outputs": [
    {
     "ename": "NameError",
     "evalue": "name 'nlp' is not defined",
     "output_type": "error",
     "traceback": [
      "\u001b[0;31m---------------------------------------------------------------------------\u001b[0m",
      "\u001b[0;31mNameError\u001b[0m                                 Traceback (most recent call last)",
      "\u001b[0;32m<ipython-input-6-936d3619714f>\u001b[0m in \u001b[0;36m<module>\u001b[0;34m\u001b[0m\n\u001b[0;32m----> 1\u001b[0;31m \u001b[0mcorpus\u001b[0m \u001b[0;34m=\u001b[0m \u001b[0mnlp\u001b[0m\u001b[0;34m.\u001b[0m\u001b[0mpipe\u001b[0m\u001b[0;34m(\u001b[0m\u001b[0mtweets\u001b[0m\u001b[0;34m.\u001b[0m\u001b[0mtext_cleaned\u001b[0m\u001b[0;34m)\u001b[0m\u001b[0;34m\u001b[0m\u001b[0;34m\u001b[0m\u001b[0m\n\u001b[0m",
      "\u001b[0;31mNameError\u001b[0m: name 'nlp' is not defined"
     ]
    }
   ],
   "source": [
    "corpus = nlp.pipe(tweets.text_cleaned)\n"
   ]
  },
  {
   "cell_type": "code",
   "execution_count": 33,
   "metadata": {},
   "outputs": [
    {
     "name": "stdout",
     "output_type": "stream",
     "text": [
      "[[ 0.61486125 -1.3177645  -0.8297453  ...  1.0479081   0.19449258\n",
      "  -0.904479  ]\n",
      " [ 0.8187578   0.31961933  0.02575997 ...  0.6472383   0.19267063\n",
      "  -0.3910993 ]\n",
      " [ 1.2160323   0.3199613  -0.11548385 ...  0.475515    0.5724548\n",
      "  -1.0697542 ]\n",
      " ...\n",
      " [ 0.8442497   0.3846872   0.03981806 ...  0.9637509   0.64118385\n",
      "  -0.38999093]\n",
      " [ 0.99298507  1.7069277   0.19047529 ... -0.3737102   0.436647\n",
      "   0.42740962]\n",
      " [ 1.0061202   0.6872452   0.5117505  ... -0.01756178  0.3869358\n",
      "   0.24240337]]\n"
     ]
    }
   ],
   "source": [
    "import numpy as np\n",
    "tweets_vector = np.array([tweet.vector for tweet in corpus])\n",
    "print(tweets_vector)"
   ]
  },
  {
   "cell_type": "code",
   "execution_count": 1,
   "metadata": {},
   "outputs": [],
   "source": [
    "import spacy\n",
    "from spacy.lang.en import English\n",
    "\n",
    "nlp = spacy.load(\"en_core_web_sm\")\n",
    "\n",
    "doc = \n",
    "# Get adjectives by token.pos_\n",
    "\n",
    "#Will store ents in the .ents part of the NLP object, and this will have ent.text, ent.label_ as text and type\n",
    "\n",
    "# Can search for noun + adjective patterns via a matcher object in spacy\n",
    "# If they are separated, use the \"OP\": \"*\"\n",
    "\n"
   ]
  },
  {
   "cell_type": "markdown",
   "metadata": {},
   "source": [
    "How many named entities are there in the tweets? How often is each named? What types are there?"
   ]
  },
  {
   "cell_type": "markdown",
   "metadata": {},
   "source": [
    "How many adjectives/descriptors are there?\n",
    "What are the most common and least common?"
   ]
  },
  {
   "cell_type": "code",
   "execution_count": null,
   "metadata": {},
   "outputs": [],
   "source": [
    "from spacy.matcher import Matcher\n",
    "from spacy.mo\n",
    "\n"
   ]
  },
  {
   "cell_type": "markdown",
   "metadata": {},
   "source": [
    "What is the distribution of NERs and descriptors by Tweet?\n",
    "Do any Tweets have more than one named entity?\n"
   ]
  },
  {
   "cell_type": "markdown",
   "metadata": {},
   "source": [
    "How are the NERs and descriptors found within a Tweet?\n",
    "Bigrams, trigrams, same sentence?"
   ]
  },
  {
   "cell_type": "markdown",
   "metadata": {},
   "source": [
    "What antonym pairs are found in the tweets? Does this match a general understanding of opposites?"
   ]
  },
  {
   "cell_type": "markdown",
   "metadata": {},
   "source": [
    "### World extraction\n",
    "Do a data reduction"
   ]
  },
  {
   "cell_type": "code",
   "execution_count": 3,
   "metadata": {},
   "outputs": [],
   "source": [
    "# Basically import my previous analysis but then consider using NMF instead of FA."
   ]
  },
  {
   "cell_type": "code",
   "execution_count": null,
   "metadata": {},
   "outputs": [],
   "source": []
  },
  {
   "cell_type": "markdown",
   "metadata": {},
   "source": [
    "#### Wilder ideas\n",
    "Here are some other ideas:\n",
    "1. Can we predict Trump's attitudes to untweeted entities?\n",
    "2. Can we predict Trump's tweets using known tweets?\n",
    "3. Can we make fake Trump tweets"
   ]
  },
  {
   "cell_type": "code",
   "execution_count": 2,
   "metadata": {},
   "outputs": [],
   "source": [
    "# 1 - predicting attitudes to unknowns\n",
    "#Do this via similarity of an entity to known entities in KDWD. Can also use the Word2Vec or \n",
    "#something like GPT2 or GPT3\n",
    "# Vs KDWD on entity and known reduced structure"
   ]
  },
  {
   "cell_type": "code",
   "execution_count": null,
   "metadata": {},
   "outputs": [],
   "source": [
    "# 2 - accuracy of prediction\n",
    "# Can we predict a holdout set? (DOes time matter?)\n"
   ]
  },
  {
   "cell_type": "code",
   "execution_count": 3,
   "metadata": {},
   "outputs": [],
   "source": [
    "# 3 - feed tweets into GPT2/3, get new tweets"
   ]
  },
  {
   "cell_type": "code",
   "execution_count": null,
   "metadata": {},
   "outputs": [],
   "source": []
  }
 ],
 "metadata": {
  "kernelspec": {
   "display_name": "Python 3",
   "language": "python",
   "name": "python3"
  },
  "language_info": {
   "codemirror_mode": {
    "name": "ipython",
    "version": 3
   },
   "file_extension": ".py",
   "mimetype": "text/x-python",
   "name": "python",
   "nbconvert_exporter": "python",
   "pygments_lexer": "ipython3",
   "version": "3.7.3"
  }
 },
 "nbformat": 4,
 "nbformat_minor": 2
}
